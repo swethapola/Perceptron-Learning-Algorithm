{
 "cells": [
  {
   "cell_type": "markdown",
   "metadata": {},
   "source": [
    "# Implementation"
   ]
  },
  {
   "cell_type": "code",
   "execution_count": 166,
   "metadata": {},
   "outputs": [],
   "source": [
    "import os\n",
    "import numpy as np\n",
    "import random\n",
    "import matplotlib.pyplot as plt"
   ]
  },
  {
   "cell_type": "code",
   "execution_count": 276,
   "metadata": {},
   "outputs": [],
   "source": [
    "DIM = (28,28)\n",
    "def load_image_files(n, path=\"images/\"):\n",
    "    # helper file to help load the images\n",
    "    # returns a list of numpy vectors\n",
    "    images = []\n",
    "    for f in os.listdir(os.path.join(path,str(n))): # read files in the path\n",
    "        p = os.path.join(path,str(n),f)\n",
    "        if os.path.isfile(p):\n",
    "            i = np.loadtxt(p)\n",
    "            assert i.shape == DIM # just check the dimensions here# i is loaded as a matrix, but we are going to flatten it into a single vector\n",
    "            images.append(i.flatten())\n",
    "    return images\n",
    "A = load_image_files(0)\n",
    "B = load_image_files(1)\n",
    "N = len(A[0]) # the total size\n",
    "assert N == DIM[0]*DIM[1] # just check our sizes to be sure# set up some random initial weights"
   ]
  },
  {
   "cell_type": "code",
   "execution_count": 293,
   "metadata": {},
   "outputs": [],
   "source": [
    "weights = np.random.normal(0,1,size=N)\n",
    "def perceptron(w,x):\n",
    "    if np.dot(w,x) >= 0:\n",
    "        return 1\n",
    "    return 0\n",
    "average_accuracy = []\n",
    "for i in np.arange(6000): \n",
    "    correct = 0\n",
    "    for j in np.arange(25):\n",
    "        y = np.random.randint(2)\n",
    "        if (y == 0):\n",
    "            x = random.choice(A)\n",
    "            perceptron_output = perceptron(weights, x)\n",
    "            if (perceptron_output == 1):\n",
    "                weights -= x\n",
    "            else: \n",
    "                correct += 1\n",
    "        else:\n",
    "            x = random.choice(B)\n",
    "            perceptron_output = perceptron(weights, x)\n",
    "            if (perceptron_output == 0):\n",
    "                weights += x\n",
    "            else:\n",
    "                correct +=1 \n",
    "    accuracy = correct/25\n",
    "    average_accuracy = np.append(average_accuracy, accuracy)"
   ]
  },
  {
   "cell_type": "markdown",
   "metadata": {},
   "source": [
    "# Question 1"
   ]
  },
  {
   "cell_type": "code",
   "execution_count": 294,
   "metadata": {
    "scrolled": true
   },
   "outputs": [
    {
     "data": {
      "text/plain": [
       "Text(0.5,1,'Perceptron Learning by Trainings on 25 items')"
      ]
     },
     "execution_count": 294,
     "metadata": {},
     "output_type": "execute_result"
    },
    {
     "data": {
      "image/png": "[encoded data removed]",
      "text/plain": [
       "<Figure size 432x288 with 1 Axes>"
      ]
     },
     "metadata": {},
     "output_type": "display_data"
    }
   ],
   "source": [
    "plt.plot(average_accuracy)\n",
    "plt.xlabel('Batch of 25 trainings')\n",
    "plt.ylabel('Accuracy')\n",
    "plt.title('Perceptron Learning by Trainings on 25 items')"
   ]
  },
  {
   "cell_type": "markdown",
   "metadata": {},
   "source": [
    "\n",
    "\n",
    "\n",
    "\n",
    "\n",
    "\n",
    "\n",
    "\n",
    "\n",
    "\n",
    "\n",
    "\n",
    "\n",
    "\n",
    "\n",
    "\n",
    "\n",
    "\n",
    "\n",
    "\n",
    "\n",
    "\n",
    "\n",
    "\n",
    "\n",
    "\n",
    "\n",
    "\n"
   ]
  },
  {
   "cell_type": "markdown",
   "metadata": {},
   "source": [
    "# Question 2"
   ]
  },
  {
   "cell_type": "markdown",
   "metadata": {},
   "source": [
    "My plot hits 100% quickly, but is difficult to tell whether it converges to 100%. Perceptrons can only solve linear separable problems. Since our implementation is not able to converge to 100% consistently, and therefore cannot solve the problem, then 0 and 1 are not linearly separable in our feature space.\n",
    "\n",
    "\n",
    "\n",
    "\n",
    "\n",
    "\n",
    "\n",
    "\n",
    "\n",
    "\n",
    "\n",
    "\n",
    "\n",
    "\n",
    "\n",
    "\n",
    "\n",
    "\n",
    "\n",
    "\n",
    "\n",
    "\n",
    "\n",
    "\n",
    "\n",
    "\n",
    " \n",
    "\n",
    "\n",
    "\n",
    "\n",
    "\n",
    "\n",
    "\n",
    "\n",
    "\n",
    "\n",
    "\n",
    "\n",
    "\n",
    "\n",
    "\n",
    "\n",
    "\n",
    "\n",
    "\n"
   ]
  },
  {
   "cell_type": "markdown",
   "metadata": {},
   "source": [
    "# Question 3"
   ]
  },
  {
   "cell_type": "code",
   "execution_count": 295,
   "metadata": {},
   "outputs": [
    {
     "data": {
      "text/plain": [
       "<matplotlib.colorbar.Colorbar at 0x11adf8e80>"
      ]
     },
     "execution_count": 295,
     "metadata": {},
     "output_type": "execute_result"
    },
    {
     "data": {
      "image/png": "[encoded data removed]",
      "text/plain": [
       "<Figure size 432x288 with 2 Axes>"
      ]
     },
     "metadata": {},
     "output_type": "display_data"
    }
   ],
   "source": [
    "weights_reshaped = weights\n",
    "weights_reshaped = np.reshape(weights_reshaped, (28,28))\n",
    "plt.imshow(weights_reshaped)\n",
    "plt.colorbar()"
   ]
  },
  {
   "cell_type": "markdown",
   "metadata": {},
   "source": [
    "This graphic shows a weight matrix trained on a series of images of 0s and 1s. In our implementation, to parse apart 0 & 1, we added to the weight matrix whenever we saw a handwritten \"1\" (indicated by values 1 in the vectors) and subtracted from the weight matrix wherever we saw a handwritten \"0\" (indicated by values 1 in the vectors). \n",
    "\n",
    "This has resulted in a matrix with large negative weights (the blue circle) that indicate: where frequently, when the image was a handwritten 0, those areas were valued at 1.\n",
    "\n",
    "Vice versa, there are large positive weights (the center yellow line) that indicate where frequently, when the image was a handwritten 1, those areas were valued at 1.\n",
    "\n",
    "Finally, the points graded near zero (much of the background and outskirts) indicate where frequently, when the image was either a handwritten 1 or 0, those areas were valued at 0. In other words, the backgrounds of all the images create the background of the final weighted image.\n",
    "\n",
    "\n",
    "\n",
    "\n",
    "\n",
    "\n",
    "\n",
    "\n",
    "\n"
   ]
  },
  {
   "cell_type": "markdown",
   "metadata": {},
   "source": [
    "# Question 4"
   ]
  },
  {
   "cell_type": "code",
   "execution_count": 296,
   "metadata": {},
   "outputs": [],
   "source": [
    "avg_accuracy = []\n",
    "sorted_weights = sorted(abs(weights))\n",
    "zeroed_weights = weights\n",
    "for i in np.arange(10,781,10):\n",
    "    correct = 0\n",
    "    minimum = sorted_weights[i]   \n",
    "    for k in np.arange(len(weights)):\n",
    "        if abs(zeroed_weights[k]) <= minimum:\n",
    "            zeroed_weights[k] = 0\n",
    "    for j in np.arange(1000):\n",
    "        y = np.random.randint(2)\n",
    "        if (y == 0):\n",
    "            x = random.choice(A)\n",
    "            if perceptron(zeroed_weights, x) == 0:\n",
    "                correct += 1\n",
    "        else:\n",
    "            x = random.choice(B)\n",
    "            if perceptron(zeroed_weights, x) == 1:\n",
    "                correct += 1\n",
    "    accuracy = correct/1000\n",
    "    avg_accuracy = np.append(avg_accuracy, accuracy)"
   ]
  },
  {
   "cell_type": "code",
   "execution_count": 302,
   "metadata": {},
   "outputs": [
    {
     "data": {
      "text/plain": [
       "Text(0,0.5,'Accuracy')"
      ]
     },
     "execution_count": 302,
     "metadata": {},
     "output_type": "execute_result"
    },
    {
     "data": {
      "image/png": "[encoded data removed]",
      "text/plain": [
       "<Figure size 432x288 with 1 Axes>"
      ]
     },
     "metadata": {},
     "output_type": "display_data"
    }
   ],
   "source": [
    "plt.plot(np.arange(10,781,10), avg_accuracy)\n",
    "plt.xlabel('# of Values Replaced with 0')\n",
    "plt.ylabel('Accuracy')"
   ]
  },
  {
   "cell_type": "markdown",
   "metadata": {},
   "source": [
    "This plot shows accuracy as we iteratively replace more and more points that are close to zero with 0. It falls off steeply at about 750 points. This is almost entirely the whole data set, which has 780 items.\n",
    "\n",
    "Essentially, this means that a large proportion of our weights are actually already very close to zero, the background items, which do not contribute much to our algorithm in deciding whether an image is a 1 or 0."
   ]
  },
  {
   "cell_type": "markdown",
   "metadata": {},
   "source": [
    "# Question 5"
   ]
  },
  {
   "cell_type": "code",
   "execution_count": 303,
   "metadata": {},
   "outputs": [],
   "source": [
    "A = load_image_files(0)\n",
    "B = load_image_files(1)\n",
    "C = load_image_files(2)\n",
    "D = load_image_files(3)\n",
    "E = load_image_files(4)\n",
    "F = load_image_files(5)\n",
    "G = load_image_files(6)\n",
    "H = load_image_files(7)\n",
    "I = load_image_files(8)\n",
    "J = load_image_files(9)"
   ]
  },
  {
   "cell_type": "code",
   "execution_count": 373,
   "metadata": {},
   "outputs": [],
   "source": [
    "numbers = [A,B,C,D,E,F,G,H,I,J]\n",
    "\n",
    "def pair_accuracies(i,j):\n",
    "    weights = np.random.normal(0,1,size=N)\n",
    "    average_accuracy = []\n",
    "    \n",
    "    for a in np.arange(500): \n",
    "        correct = 0\n",
    "        for b in np.arange(25):\n",
    "            y = np.random.randint(2)\n",
    "            if (y == 0):\n",
    "                x = random.choice(numbers[i])\n",
    "                perceptron_output = perceptron(weights, x)\n",
    "                if (perceptron_output == 1):\n",
    "                    weights -= x\n",
    "                else: \n",
    "                    correct += 1\n",
    "            else:\n",
    "                x = random.choice(numbers[j])\n",
    "                perceptron_output = perceptron(weights, x)\n",
    "                if (perceptron_output == 0):\n",
    "                    weights += x\n",
    "                else:\n",
    "                    correct +=1 \n",
    "    accuracy = correct/25\n",
    "    average_accuracy = np.append(average_accuracy, accuracy)\n",
    "    \n",
    "    return max(average_accuracy)\n",
    "\n",
    "final_accuracies = []\n",
    "for i in np.arange(10): #initial number\n",
    "    row_accuracies = []\n",
    "    for j in np.arange(10): #comparison number to initial number\n",
    "        row_accuracies.append(pair_accuracies(i,j))\n",
    "    \n",
    "    final_accuracies.append(row_accuracies)\n",
    "    \n",
    "for i in np.arange(10):\n",
    "    for j in np.arange(10):\n",
    "        if i == j:\n",
    "            final_accuracies[i][j] = 1"
   ]
  },
  {
   "cell_type": "code",
   "execution_count": 374,
   "metadata": {},
   "outputs": [
    {
     "data": {
      "text/plain": [
       "[[1, 0.96, 1.0, 0.96, 1.0, 1.0, 1.0, 1.0, 1.0, 1.0],\n",
       " [1.0, 1, 1.0, 0.96, 1.0, 1.0, 1.0, 1.0, 1.0, 1.0],\n",
       " [1.0, 1.0, 1, 1.0, 0.92, 0.96, 1.0, 0.96, 1.0, 0.96],\n",
       " [0.96, 1.0, 1.0, 1, 0.96, 0.96, 1.0, 0.96, 0.84, 0.96],\n",
       " [1.0, 0.96, 0.96, 1.0, 1, 1.0, 0.96, 0.96, 1.0, 0.96],\n",
       " [0.96, 1.0, 1.0, 0.92, 1.0, 1, 1.0, 1.0, 0.96, 1.0],\n",
       " [1.0, 1.0, 1.0, 1.0, 1.0, 0.96, 1, 1.0, 1.0, 1.0],\n",
       " [0.96, 0.96, 1.0, 1.0, 0.96, 1.0, 1.0, 1, 0.96, 0.92],\n",
       " [1.0, 1.0, 0.96, 0.84, 1.0, 0.96, 1.0, 0.96, 1, 0.96],\n",
       " [1.0, 1.0, 1.0, 0.92, 1.0, 0.96, 1.0, 0.88, 0.92, 1]]"
      ]
     },
     "execution_count": 374,
     "metadata": {},
     "output_type": "execute_result"
    },
    {
     "data": {
      "image/png": "[encoded data removed]",
      "text/plain": [
       "<Figure size 432x288 with 2 Axes>"
      ]
     },
     "metadata": {},
     "output_type": "display_data"
    }
   ],
   "source": [
    "plt.imshow(final_accuracies)\n",
    "plt.xticks(np.arange(10))\n",
    "plt.yticks(np.arange(10))\n",
    "plt.colorbar()\n",
    "final_accuracies"
   ]
  },
  {
   "cell_type": "markdown",
   "metadata": {},
   "source": [
    "This heat map shows does match my intuitions about how easy it might be to separate certain numbers based on how similar their features are. For example, 9 and 7 are very close except for the closure of the circle. It also makes sense that 0 is the most differentiable as it is the most different feature wise (a large circle) from all the others."
   ]
  },
  {
   "cell_type": "code",
   "execution_count": null,
   "metadata": {},
   "outputs": [],
   "source": []
  }
 ],
 "metadata": {
  "kernelspec": {
   "display_name": "Python 3",
   "language": "python",
   "name": "python3"
  },
  "language_info": {
   "codemirror_mode": {
    "name": "ipython",
    "version": 3
   },
   "file_extension": ".py",
   "mimetype": "text/x-python",
   "name": "python",
   "nbconvert_exporter": "python",
   "pygments_lexer": "ipython3",
   "version": "3.6.5"
  }
 },
 "nbformat": 4,
 "nbformat_minor": 2
}
